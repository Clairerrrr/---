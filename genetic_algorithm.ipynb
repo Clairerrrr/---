{
 "cells": [
  {
   "cell_type": "markdown",
   "metadata": {},
   "source": [
    "### 遗传算法\n",
    "\n",
    "**遗传算法**是一种优化方法，其源于达尔文的自然选择学说。自然选择学说认为，在特定的环境下，各种生物的那些适应所在环境特点的功能有更高可能在代际遗传中得到保留（举例而言，在高寒地区的动物通常长有非常厚的毛）。自然选择在以下条件下就会产生：\n",
    "\n",
    "* 各种生物要有办法将自己的遗传特征传给后代\n",
    "* 环境中的遗传特征种类多种多样\n",
    "* 只有部分生物体才可以将自己的遗传特征传给后代，也就是“适者生存”\n",
    "\n",
    "这种“仿生学”的方法如何在算法中应用呢？"
   ]
  },
  {
   "cell_type": "markdown",
   "metadata": {},
   "source": [
    "#### 场景\n",
    "\n",
    "假设我们随机抽取100个用户来公司参观，并与自己喜欢的老师和产品经理互相交流。在他们来公司前，我们送了一组问卷，问卷内容包括：\n",
    "\n",
    "* 对数学视频的喜好程度\n",
    "* 对物理视频的喜好程度\n",
    "* 对英语视频的喜好程度\n",
    "\n",
    "在问卷中，他们需要对每个问题打一个分数，10分为最喜欢，0分为最不喜欢。\n",
    "\n",
    "现在，这100位用户会分坐10行10列，由于活动需要，我们需要保证同一个人的前、后、左、右邻座不能和这个人有很大的兴趣差异。\n",
    "\n",
    "他们的问卷数据在`questionnaire.csv`中，现在，你需要**用pandas 读取，并输出数据的前5行**"
   ]
  },
  {
   "cell_type": "code",
   "execution_count": 25,
   "metadata": {},
   "outputs": [
    {
     "data": {
      "text/html": [
       "<div>\n",
       "<style>\n",
       "    .dataframe thead tr:only-child th {\n",
       "        text-align: right;\n",
       "    }\n",
       "\n",
       "    .dataframe thead th {\n",
       "        text-align: left;\n",
       "    }\n",
       "\n",
       "    .dataframe tbody tr th {\n",
       "        vertical-align: top;\n",
       "    }\n",
       "</style>\n",
       "<table border=\"1\" class=\"dataframe\">\n",
       "  <thead>\n",
       "    <tr style=\"text-align: right;\">\n",
       "      <th></th>\n",
       "      <th></th>\n",
       "      <th></th>\n",
       "      <th>uid</th>\n",
       "    </tr>\n",
       "  </thead>\n",
       "  <tbody>\n",
       "    <tr>\n",
       "      <th>uid</th>\n",
       "      <th>math</th>\n",
       "      <th>physics</th>\n",
       "      <td>english</td>\n",
       "    </tr>\n",
       "    <tr>\n",
       "      <th>1</th>\n",
       "      <th>0</th>\n",
       "      <th>4</th>\n",
       "      <td>7</td>\n",
       "    </tr>\n",
       "    <tr>\n",
       "      <th>2</th>\n",
       "      <th>5</th>\n",
       "      <th>2</th>\n",
       "      <td>0</td>\n",
       "    </tr>\n",
       "    <tr>\n",
       "      <th>3</th>\n",
       "      <th>5</th>\n",
       "      <th>1</th>\n",
       "      <td>3</td>\n",
       "    </tr>\n",
       "    <tr>\n",
       "      <th>4</th>\n",
       "      <th>9</th>\n",
       "      <th>1</th>\n",
       "      <td>8</td>\n",
       "    </tr>\n",
       "  </tbody>\n",
       "</table>\n",
       "</div>"
      ],
      "text/plain": [
       "                      uid\n",
       "uid math physics  english\n",
       "1   0    4              7\n",
       "2   5    2              0\n",
       "3   5    1              3\n",
       "4   9    1              8"
      ]
     },
     "execution_count": 25,
     "metadata": {},
     "output_type": "execute_result"
    }
   ],
   "source": [
    "import pandas as pd\n",
    "\n",
    "# 读取 questionnaire.csv, 存到 df 中，并将第一列（uid）设置为索引\n",
    "### CODE HERE\n",
    "df = pd.read_csv(\"questionnaire.csv\",names=['uid'])\n",
    "\n",
    "\n",
    "df.head()"
   ]
  },
  {
   "cell_type": "markdown",
   "metadata": {},
   "source": [
    "有了数据，首先我们可以尝试将问题和数据形式化。在这个问题里，我们的输出显然是个10×10的矩阵，我们可以通过这个矩阵为这100个用户安排座位。为了让遗传算法听起来更有生物范儿，我们可以把矩阵叫做“染色体”，把矩阵中每个元素（座位和座位上的用户）叫做“基因”，这样我们就可以提出很多染色体，这些染色体有的符合问题的要求，有的不符合。\n",
    "\n",
    "所以，我们可以先随机生成10个染色体。**请将所有uid随机分配到一个名为 `user_mat` 的10×10的numpy矩阵中**"
   ]
  },
  {
   "cell_type": "code",
   "execution_count": 26,
   "metadata": {
    "collapsed": true
   },
   "outputs": [],
   "source": [
    "import numpy as np\n",
    "\n",
    "### CODE HERE\n",
    "user_mat= np.arange(1,101).reshape([10,10])"
   ]
  },
  {
   "cell_type": "markdown",
   "metadata": {},
   "source": [
    "接下来，**随机\"shuffle\" `user_mat` 十次，并将返回的“染色体”保存到 `initial_population`**"
   ]
  },
  {
   "cell_type": "code",
   "execution_count": 27,
   "metadata": {
    "collapsed": true
   },
   "outputs": [],
   "source": [
    "initial_population = []\n",
    "\n",
    "for x in range(10):\n",
    "    user_mat = np.random.permutation(range(1, 101)).reshape((10,10))\n",
    "    initial_population.append(user_mat)"
   ]
  },
  {
   "cell_type": "code",
   "execution_count": 28,
   "metadata": {},
   "outputs": [
    {
     "data": {
      "text/plain": [
       "[array([[ 66,   4,  54,  43,  49,  94,  91,  60,  34,  46],\n",
       "        [ 81,  35,  12,  59,  22,  41,  47,  71,  96,  31],\n",
       "        [ 17,  16,  19,  10,  85,  72,  24,  97,  36,  78],\n",
       "        [ 25,  51,  88,  95,  27,  67,  55,  40,  53,  64],\n",
       "        [ 37,  73,  99,  68,   7,  18,  23,  63,   5,  86],\n",
       "        [  9,  30,  13,  74,  58,   3,  75,  65,  70,  45],\n",
       "        [  6,  79,  48,  15,  76,  29,  21,   1,  14,  20],\n",
       "        [ 39, 100,  28,   2,  62,  32,  69,  84,  44,  92],\n",
       "        [ 89,  56,  11,  87,  82,  33,  98,  80,  26,  61],\n",
       "        [ 77,   8,  50,  42,  93,  57,  83,  90,  52,  38]]),\n",
       " array([[ 25,  38,  54,  63,   9,  90,  17,  86,  66,  44],\n",
       "        [ 72,  42,  71,  49,  81,  32,  92,  79,   8,  33],\n",
       "        [ 87,  31,  96,  23,   1,   7,  85,  68,  58,  55],\n",
       "        [ 65, 100,  73,  40,  93,  94,  53,  34,  37,  24],\n",
       "        [ 10,  18,  82,  60,  62,  35,  64,  29,  27,  21],\n",
       "        [ 61,  43,  19,  12,   4,  98,  48,  84,  70,  51],\n",
       "        [ 46,  77,  69,  22,  30,  80,  56,  47,  16,  13],\n",
       "        [ 39,  11,  15,  89,  14,  76,   6,  26,  45,  52],\n",
       "        [ 95,  41,  50,   5,  57,  75,  20,  88,  36,  74],\n",
       "        [ 67,  99,  91,  28,   2,   3,  59,  97,  83,  78]]),\n",
       " array([[  6,  28,  77,  95,  89,  75,  36,  51,  94,  81],\n",
       "        [ 40,  45,  67,  90, 100,  73,  88,  31,  30,  10],\n",
       "        [ 85,  83,  93,  98,  41,   9,  47,  43,  72,  18],\n",
       "        [ 11,  44,   3,  56,  32,  97,   1,  23,  80,  64],\n",
       "        [ 53,  62,  54,  13,  21,  82,  25,   7,  69,  17],\n",
       "        [ 55,  66,  70,  38,  22,   5,  58,  35,  68,  34],\n",
       "        [ 37,  99,  15,  42,  84,  24,  16,  61,  50,  26],\n",
       "        [ 29,  59,  87,  60,  20,  12,  63,  91,  71,  39],\n",
       "        [  4,  79,   8,  49,  65,  19,  74,  14,  86,  92],\n",
       "        [ 48,  33,  78,  96,  52,  46,  76,  27,  57,   2]]),\n",
       " array([[ 26,  68,  65,  52,  51,  75,  18,  13,  91,  21],\n",
       "        [ 87,  54,  33,  58,  41,  78,  10,  70,   5,  29],\n",
       "        [ 85,  60,  94,  82,  77,  49,   3,  57,  61,  98],\n",
       "        [ 35,  11,  83,  64,  15,   7,  63,  44,  88,  86],\n",
       "        [ 23,  17,  62,  84,  36,  38,  69,  37,  20,  25],\n",
       "        [ 92,   1,  43,  56,  24,  45,   8,  12,  28,  32],\n",
       "        [ 76,  47,  97,  74,  55,  90,  14,  30,  80,  66],\n",
       "        [100,  89,  59,   9,  50,  34,  27,  72,   4,  31],\n",
       "        [ 22,  19,  95,   2,  53,  42,   6,  99,  16,  40],\n",
       "        [ 73,  93,  71,  81,  79,  46,  67,  48,  96,  39]]),\n",
       " array([[  9,  65,  16,  13,   5,  91,  96,  57,  98,  67],\n",
       "        [ 81,  21,  45,  18,  85,  55,  52,  77,  84,   4],\n",
       "        [ 73,  12,  49,  58,  97,  66,  86,  71,  87,  90],\n",
       "        [ 70,  23,  76,  29,  42,  92,  30,  78,  62,  37],\n",
       "        [ 74,  20,  34,   2,  83,  93,  56,  43,   8,  48],\n",
       "        [  1,  40,  28,  64,  89,  75,  59,   6,  39,  24],\n",
       "        [ 60,  22,  36,  95,  38,  82,  69,  54,  68,  88],\n",
       "        [ 41,  99,  94,  31,  17,  50,  44,   7,  35,  72],\n",
       "        [ 46,  61,  51,  14,  53,  47,  63,  79,  32,  33],\n",
       "        [ 27,  11,  80, 100,  19,   3,  10,  25,  26,  15]]),\n",
       " array([[ 78,  58,  33,  14,  98,  64,  68,  12,  83,  69],\n",
       "        [  8,  39,  52,  67,  93,  60,  43,  13,   6,  19],\n",
       "        [ 32,  18,  53,  87,  48,  95,  41,  28,  97,   7],\n",
       "        [ 59,  91,  56,  61,  85,  79,  25,  36,  42,  22],\n",
       "        [ 17,  75,  15,  81,  31,  34,   2,   5,  99,  92],\n",
       "        [100,  46,  62,  82,  65,  29,  96,  94,  37,  24],\n",
       "        [  4,  27,  88,  90,   9,  80,  76,  57,  45,  74],\n",
       "        [ 11,  26,  77,   3,  71,  40,  89,   1,  16,  10],\n",
       "        [ 35,  23,  49,  73,  50,  30,  86,  44,  70,  51],\n",
       "        [ 54,  47,  63,  21,  55,  84,  66,  72,  38,  20]]),\n",
       " array([[ 21,  97,  19,  27,  59, 100,  53,  54,  26,   2],\n",
       "        [ 61,  39,  52,  31,  49,  37,  30,  94,  99,  34],\n",
       "        [ 55,  41,  86,  93,   9,  78,  24,  88,  47,  87],\n",
       "        [ 85,   8,  63,   6,  11,  15,  65,  83,  68,  71],\n",
       "        [ 76,   1,  64,  43,  46,  45,  50,  90,  58,  67],\n",
       "        [ 42,  57,  70,  38,  80,  74,  79,  51,  69,  56],\n",
       "        [ 40,  29,  10,  73,  75,  60,  25,   7,  66,  13],\n",
       "        [ 23,  82,   4,  18,  92,  16,   3,  96,   5,  95],\n",
       "        [ 28,  32,  72,  17,  84,  91,  48,  89,  35,  33],\n",
       "        [ 22,  36,  81,  20,  44,  12,  77,  98,  14,  62]]),\n",
       " array([[  8,  79,   9,  54,  65,  21,  16,  10,  97,  62],\n",
       "        [ 28,  52,  76,  11,  29,  39,  66,  36,  68,  17],\n",
       "        [ 61,   4,   7,  34,  43,  49,  72,  46,  92,  40],\n",
       "        [ 85,  22,   2,  27,  45,  94,  20,  15,   5,  81],\n",
       "        [ 80,  31,  91,  59,  71, 100,  44,  89,  12,  93],\n",
       "        [ 32,  98,  30,  33,  26,  75,  60,  38,  47,  82],\n",
       "        [  6,  70,  58,  18,  96,  48,  95,  24,  90,  73],\n",
       "        [ 53,  77,  86,   1,  83,  25,  99,  84,  57,  64],\n",
       "        [ 56,  23,  74,  67,  13,  37,  88,  42,  87,  51],\n",
       "        [ 69,  55,  19,  14,  50,  35,  41,  63,   3,  78]]),\n",
       " array([[ 48,  80,  39,  12,  60,  83,  52,  27,   6,  35],\n",
       "        [ 11,  64,  14,  10,   1,  44, 100,  21,  69,  38],\n",
       "        [  9,  84,  22,  97,  31,  58,  29,  43,  37,  75],\n",
       "        [ 36,  20,  94,  24,  41,  51,  95,  77,  13,  46],\n",
       "        [ 79,  61,  18,  34,  78,  30,   7,  32,  42,  92],\n",
       "        [ 73,  72,  88,  55,  81,  99,  82,  49,  96,  98],\n",
       "        [ 76,  33,  93,  28,  85,  57,  59,  26,  90,  87],\n",
       "        [ 16,   4,  54,  17,  65,  68,  53,  74,  40,   2],\n",
       "        [ 62,   8,  86,  25,  66,  91,  15,  70,  19,  71],\n",
       "        [ 67,  23,   5,  45,  89,  50,  47,   3,  63,  56]]),\n",
       " array([[ 98,  34,   6,  59,  69,  12,  84,  15,  48,  41],\n",
       "        [ 72,  74,  82,  92,  37,  78,  35,  25,  27,  31],\n",
       "        [ 61,  64,  66,  23,  94,  54,  93,  43,  85,  11],\n",
       "        [ 95,  73,  22,   2,  47,  52,   1,  40,  36,   9],\n",
       "        [ 57,   3,  56,  19,  88,  38,  99,  28,  96,  65],\n",
       "        [ 39,  20,  53,  49,  75,  13,  45,  81,  60,  30],\n",
       "        [ 18,  70,  87,  26,  71, 100,   4,   7,  58,   5],\n",
       "        [ 46,  80,  86,  21,  16,  50,  90,  17,  79,  83],\n",
       "        [ 76,  91,  77,  68,  55,  67,  29,  63,  62,  24],\n",
       "        [ 42,  89,  33,  97,   8,  51,  10,  14,  32,  44]])]"
      ]
     },
     "execution_count": 28,
     "metadata": {},
     "output_type": "execute_result"
    }
   ],
   "source": [
    "initial_population"
   ]
  },
  {
   "cell_type": "markdown",
   "metadata": {},
   "source": [
    "#### 适者生存\n",
    "\n",
    "接下来是重头戏 —— 适者生存环节了。我们如何让这10条染色体“弱肉强食，适者生存”呢？\n",
    "\n",
    "刚刚说到，我们需要保证同一个人的前、后、左、右邻座不能和这个人有很大的兴趣差异。那么首先就要衡量这种“差异”。\n",
    "\n",
    "请**写一个函数，输入是用户A（`person`）和一组用户B的数据（`*others`），返回A同B中每个用户喜好的平均曼哈顿距离**。"
   ]
  },
  {
   "cell_type": "code",
   "execution_count": 29,
   "metadata": {},
   "outputs": [],
   "source": [
    "from scipy.spatial.distance import pdist\n",
    "\n",
    "def calculate_interest_distance(person, *others):\n",
    "    people = [df.ix[person, 0:3]]\n",
    "    for other in others:\n",
    "        if other:\n",
    "            people.append(df.ix[other, 0:3])\n",
    "\n",
    "    return np.average(pdist(people,'seuclidean')) if len(people) > 1 else 0"
   ]
  },
  {
   "cell_type": "markdown",
   "metadata": {},
   "source": [
    "现在我们已经有了衡量“差距”的方法，我们就可以将其作为染色体“适应性”的度量。\n",
    "\n",
    "接下来自然是为每条染色体的每个基因计算其距离了。我们会遍历每条染色体，为所有基因计算它与它前、后、左、右四个neighbor的距离。由于并非所有基因都有前后左右四个邻居，本着防御性编程的精神，我们先写个函数处理对应邻居不存在的意外情况。"
   ]
  },
  {
   "cell_type": "code",
   "execution_count": 30,
   "metadata": {
    "collapsed": true
   },
   "outputs": [],
   "source": [
    "def get_element_safe(sequence, position):\n",
    "    try:\n",
    "        return sequence.item(position)\n",
    "    except IndexError:\n",
    "        return None"
   ]
  },
  {
   "cell_type": "markdown",
   "metadata": {},
   "source": [
    "接下来就可以动手了！请**补全`calculate_chromosome_fitness`函数，该函数接收一个染色体，并为该染色体上的每个基因计算曼哈顿距离，最后以这些距离的平均值作为这条染色体的“适者程度”**"
   ]
  },
  {
   "cell_type": "code",
   "execution_count": 31,
   "metadata": {
    "collapsed": true
   },
   "outputs": [],
   "source": [
    "def calculate_chromosome_fitness(chromosome):\n",
    "    fitnesses = []\n",
    "    for index, gene in np.ndenumerate(chromosome):\n",
    "        next_to = calculate_interest_distance(gene,\n",
    "                                             get_element_safe(chromosome, (index[0], index[1] - 1)),\n",
    "                                             get_element_safe(chromosome, (index[0], index[1] + 1)))\n",
    "        in_front = calculate_interest_distance(gene,\n",
    "                                             get_element_safe(chromosome, (index[0], index[0] - 1)))\n",
    "        behind = calculate_interest_distance(gene,\n",
    "                                            get_element_safe(chromosome, (index[0], index[0] + 1)))\n",
    "        fitnesses.append(sum([next_to, in_front, behind]) / 3)\n",
    "    return np.average(fitnesses)"
   ]
  },
  {
   "cell_type": "markdown",
   "metadata": {},
   "source": [
    "好的，这样我们就可以比较刚刚产生的10条染色体了。现在可以遍历每条染色体，计算染色体适应性，最后将相关信息保存起来。"
   ]
  },
  {
   "cell_type": "code",
   "execution_count": 32,
   "metadata": {},
   "outputs": [
    {
     "name": "stderr",
     "output_type": "stream",
     "text": [
      "C:\\Users\\wanglingbo\\Anaconda3\\lib\\site-packages\\ipykernel_launcher.py:4: DeprecationWarning: \n",
      ".ix is deprecated. Please use\n",
      ".loc for label based indexing or\n",
      ".iloc for positional indexing\n",
      "\n",
      "See the documentation here:\n",
      "http://pandas.pydata.org/pandas-docs/stable/indexing.html#ix-indexer-is-deprecated\n",
      "  after removing the cwd from sys.path.\n"
     ]
    }
   ],
   "source": [
    "generations = []\n",
    "\n",
    "for chromosome in initial_population:\n",
    "    generations.append({\n",
    "        \"generation\": 0,\n",
    "        \"fitness\": calculate_chromosome_fitness(chromosome),\n",
    "        \"chromosome\": chromosome,\n",
    "        \"active\": True\n",
    "    })"
   ]
  },
  {
   "cell_type": "markdown",
   "metadata": {},
   "source": [
    "现在来看看结果吧！请**以 `fitness` 为 key，为generations排序**"
   ]
  },
  {
   "cell_type": "code",
   "execution_count": 33,
   "metadata": {},
   "outputs": [
    {
     "data": {
      "text/plain": [
       "[{'active': True,\n",
       "  'chromosome': array([[ 66,   4,  54,  43,  49,  94,  91,  60,  34,  46],\n",
       "         [ 81,  35,  12,  59,  22,  41,  47,  71,  96,  31],\n",
       "         [ 17,  16,  19,  10,  85,  72,  24,  97,  36,  78],\n",
       "         [ 25,  51,  88,  95,  27,  67,  55,  40,  53,  64],\n",
       "         [ 37,  73,  99,  68,   7,  18,  23,  63,   5,  86],\n",
       "         [  9,  30,  13,  74,  58,   3,  75,  65,  70,  45],\n",
       "         [  6,  79,  48,  15,  76,  29,  21,   1,  14,  20],\n",
       "         [ 39, 100,  28,   2,  62,  32,  69,  84,  44,  92],\n",
       "         [ 89,  56,  11,  87,  82,  33,  98,  80,  26,  61],\n",
       "         [ 77,   8,  50,  42,  93,  57,  83,  90,  52,  38]]),\n",
       "  'fitness': nan,\n",
       "  'generation': 0},\n",
       " {'active': True,\n",
       "  'chromosome': array([[ 25,  38,  54,  63,   9,  90,  17,  86,  66,  44],\n",
       "         [ 72,  42,  71,  49,  81,  32,  92,  79,   8,  33],\n",
       "         [ 87,  31,  96,  23,   1,   7,  85,  68,  58,  55],\n",
       "         [ 65, 100,  73,  40,  93,  94,  53,  34,  37,  24],\n",
       "         [ 10,  18,  82,  60,  62,  35,  64,  29,  27,  21],\n",
       "         [ 61,  43,  19,  12,   4,  98,  48,  84,  70,  51],\n",
       "         [ 46,  77,  69,  22,  30,  80,  56,  47,  16,  13],\n",
       "         [ 39,  11,  15,  89,  14,  76,   6,  26,  45,  52],\n",
       "         [ 95,  41,  50,   5,  57,  75,  20,  88,  36,  74],\n",
       "         [ 67,  99,  91,  28,   2,   3,  59,  97,  83,  78]]),\n",
       "  'fitness': nan,\n",
       "  'generation': 0},\n",
       " {'active': True,\n",
       "  'chromosome': array([[  6,  28,  77,  95,  89,  75,  36,  51,  94,  81],\n",
       "         [ 40,  45,  67,  90, 100,  73,  88,  31,  30,  10],\n",
       "         [ 85,  83,  93,  98,  41,   9,  47,  43,  72,  18],\n",
       "         [ 11,  44,   3,  56,  32,  97,   1,  23,  80,  64],\n",
       "         [ 53,  62,  54,  13,  21,  82,  25,   7,  69,  17],\n",
       "         [ 55,  66,  70,  38,  22,   5,  58,  35,  68,  34],\n",
       "         [ 37,  99,  15,  42,  84,  24,  16,  61,  50,  26],\n",
       "         [ 29,  59,  87,  60,  20,  12,  63,  91,  71,  39],\n",
       "         [  4,  79,   8,  49,  65,  19,  74,  14,  86,  92],\n",
       "         [ 48,  33,  78,  96,  52,  46,  76,  27,  57,   2]]),\n",
       "  'fitness': nan,\n",
       "  'generation': 0},\n",
       " {'active': True,\n",
       "  'chromosome': array([[ 26,  68,  65,  52,  51,  75,  18,  13,  91,  21],\n",
       "         [ 87,  54,  33,  58,  41,  78,  10,  70,   5,  29],\n",
       "         [ 85,  60,  94,  82,  77,  49,   3,  57,  61,  98],\n",
       "         [ 35,  11,  83,  64,  15,   7,  63,  44,  88,  86],\n",
       "         [ 23,  17,  62,  84,  36,  38,  69,  37,  20,  25],\n",
       "         [ 92,   1,  43,  56,  24,  45,   8,  12,  28,  32],\n",
       "         [ 76,  47,  97,  74,  55,  90,  14,  30,  80,  66],\n",
       "         [100,  89,  59,   9,  50,  34,  27,  72,   4,  31],\n",
       "         [ 22,  19,  95,   2,  53,  42,   6,  99,  16,  40],\n",
       "         [ 73,  93,  71,  81,  79,  46,  67,  48,  96,  39]]),\n",
       "  'fitness': nan,\n",
       "  'generation': 0},\n",
       " {'active': True,\n",
       "  'chromosome': array([[  9,  65,  16,  13,   5,  91,  96,  57,  98,  67],\n",
       "         [ 81,  21,  45,  18,  85,  55,  52,  77,  84,   4],\n",
       "         [ 73,  12,  49,  58,  97,  66,  86,  71,  87,  90],\n",
       "         [ 70,  23,  76,  29,  42,  92,  30,  78,  62,  37],\n",
       "         [ 74,  20,  34,   2,  83,  93,  56,  43,   8,  48],\n",
       "         [  1,  40,  28,  64,  89,  75,  59,   6,  39,  24],\n",
       "         [ 60,  22,  36,  95,  38,  82,  69,  54,  68,  88],\n",
       "         [ 41,  99,  94,  31,  17,  50,  44,   7,  35,  72],\n",
       "         [ 46,  61,  51,  14,  53,  47,  63,  79,  32,  33],\n",
       "         [ 27,  11,  80, 100,  19,   3,  10,  25,  26,  15]]),\n",
       "  'fitness': nan,\n",
       "  'generation': 0},\n",
       " {'active': True,\n",
       "  'chromosome': array([[ 78,  58,  33,  14,  98,  64,  68,  12,  83,  69],\n",
       "         [  8,  39,  52,  67,  93,  60,  43,  13,   6,  19],\n",
       "         [ 32,  18,  53,  87,  48,  95,  41,  28,  97,   7],\n",
       "         [ 59,  91,  56,  61,  85,  79,  25,  36,  42,  22],\n",
       "         [ 17,  75,  15,  81,  31,  34,   2,   5,  99,  92],\n",
       "         [100,  46,  62,  82,  65,  29,  96,  94,  37,  24],\n",
       "         [  4,  27,  88,  90,   9,  80,  76,  57,  45,  74],\n",
       "         [ 11,  26,  77,   3,  71,  40,  89,   1,  16,  10],\n",
       "         [ 35,  23,  49,  73,  50,  30,  86,  44,  70,  51],\n",
       "         [ 54,  47,  63,  21,  55,  84,  66,  72,  38,  20]]),\n",
       "  'fitness': nan,\n",
       "  'generation': 0},\n",
       " {'active': True,\n",
       "  'chromosome': array([[ 21,  97,  19,  27,  59, 100,  53,  54,  26,   2],\n",
       "         [ 61,  39,  52,  31,  49,  37,  30,  94,  99,  34],\n",
       "         [ 55,  41,  86,  93,   9,  78,  24,  88,  47,  87],\n",
       "         [ 85,   8,  63,   6,  11,  15,  65,  83,  68,  71],\n",
       "         [ 76,   1,  64,  43,  46,  45,  50,  90,  58,  67],\n",
       "         [ 42,  57,  70,  38,  80,  74,  79,  51,  69,  56],\n",
       "         [ 40,  29,  10,  73,  75,  60,  25,   7,  66,  13],\n",
       "         [ 23,  82,   4,  18,  92,  16,   3,  96,   5,  95],\n",
       "         [ 28,  32,  72,  17,  84,  91,  48,  89,  35,  33],\n",
       "         [ 22,  36,  81,  20,  44,  12,  77,  98,  14,  62]]),\n",
       "  'fitness': nan,\n",
       "  'generation': 0},\n",
       " {'active': True,\n",
       "  'chromosome': array([[  8,  79,   9,  54,  65,  21,  16,  10,  97,  62],\n",
       "         [ 28,  52,  76,  11,  29,  39,  66,  36,  68,  17],\n",
       "         [ 61,   4,   7,  34,  43,  49,  72,  46,  92,  40],\n",
       "         [ 85,  22,   2,  27,  45,  94,  20,  15,   5,  81],\n",
       "         [ 80,  31,  91,  59,  71, 100,  44,  89,  12,  93],\n",
       "         [ 32,  98,  30,  33,  26,  75,  60,  38,  47,  82],\n",
       "         [  6,  70,  58,  18,  96,  48,  95,  24,  90,  73],\n",
       "         [ 53,  77,  86,   1,  83,  25,  99,  84,  57,  64],\n",
       "         [ 56,  23,  74,  67,  13,  37,  88,  42,  87,  51],\n",
       "         [ 69,  55,  19,  14,  50,  35,  41,  63,   3,  78]]),\n",
       "  'fitness': nan,\n",
       "  'generation': 0},\n",
       " {'active': True,\n",
       "  'chromosome': array([[ 48,  80,  39,  12,  60,  83,  52,  27,   6,  35],\n",
       "         [ 11,  64,  14,  10,   1,  44, 100,  21,  69,  38],\n",
       "         [  9,  84,  22,  97,  31,  58,  29,  43,  37,  75],\n",
       "         [ 36,  20,  94,  24,  41,  51,  95,  77,  13,  46],\n",
       "         [ 79,  61,  18,  34,  78,  30,   7,  32,  42,  92],\n",
       "         [ 73,  72,  88,  55,  81,  99,  82,  49,  96,  98],\n",
       "         [ 76,  33,  93,  28,  85,  57,  59,  26,  90,  87],\n",
       "         [ 16,   4,  54,  17,  65,  68,  53,  74,  40,   2],\n",
       "         [ 62,   8,  86,  25,  66,  91,  15,  70,  19,  71],\n",
       "         [ 67,  23,   5,  45,  89,  50,  47,   3,  63,  56]]),\n",
       "  'fitness': nan,\n",
       "  'generation': 0},\n",
       " {'active': True,\n",
       "  'chromosome': array([[ 98,  34,   6,  59,  69,  12,  84,  15,  48,  41],\n",
       "         [ 72,  74,  82,  92,  37,  78,  35,  25,  27,  31],\n",
       "         [ 61,  64,  66,  23,  94,  54,  93,  43,  85,  11],\n",
       "         [ 95,  73,  22,   2,  47,  52,   1,  40,  36,   9],\n",
       "         [ 57,   3,  56,  19,  88,  38,  99,  28,  96,  65],\n",
       "         [ 39,  20,  53,  49,  75,  13,  45,  81,  60,  30],\n",
       "         [ 18,  70,  87,  26,  71, 100,   4,   7,  58,   5],\n",
       "         [ 46,  80,  86,  21,  16,  50,  90,  17,  79,  83],\n",
       "         [ 76,  91,  77,  68,  55,  67,  29,  63,  62,  24],\n",
       "         [ 42,  89,  33,  97,   8,  51,  10,  14,  32,  44]]),\n",
       "  'fitness': nan,\n",
       "  'generation': 0}]"
      ]
     },
     "execution_count": 33,
     "metadata": {},
     "output_type": "execute_result"
    }
   ],
   "source": [
    "# CODE HERE\n",
    "sorted(generations,key=lambda generation: generation[\"fitness\"])\n",
    "\n",
    "generations"
   ]
  },
  {
   "cell_type": "markdown",
   "metadata": {},
   "source": [
    "#### 繁衍生息\n",
    "\n",
    "接下来就要真正的“适者生存”了。在进化论中，只有优秀的基因才有资格繁衍出下一代。我们要让两个优秀染色体结合，“生出“一个孩子来。\n",
    "\n",
    "具体的”繁衍规则“可以多种多样，在这里我们规定如下：\n",
    "* 对于id在1-50的用户，其基因来自于母亲\n",
    "* 对于id在51-100的用户，其基因来自于父亲\n",
    "* 如果基因有冲突（两个用户被指向同一个位置），就再随机挑选一个位置\n",
    "\n",
    "现在请**补全”遗传规则“**"
   ]
  },
  {
   "cell_type": "code",
   "execution_count": 34,
   "metadata": {
    "collapsed": true
   },
   "outputs": [],
   "source": [
    "import random\n",
    "\n",
    "def recombine(mother, father):\n",
    "    child = np.ones((10,10)) * -1\n",
    "    # 遍历每个用户\n",
    "    for index, uid in enumerate(df.index):\n",
    "        if uid <= 50:\n",
    "            # 如果uid <=50，则position为mother中该uid的位置\n",
    "            position = np.where(mother == uid)\n",
    "        else:\n",
    "            # 如果uid > 50，则position为father中该uid的位置\n",
    "            position = np.where(father == uid)\n",
    "        \n",
    "        if child[position] != -1:\n",
    "            # 处理冲突\n",
    "            filtered = np.where(np.equal(child, -1))\n",
    "            position = random.choice(list(zip(filtered[0], filtered[1])))\n",
    "\n",
    "        child[position] = uid\n",
    "\n",
    "    return child"
   ]
  },
  {
   "cell_type": "code",
   "execution_count": 35,
   "metadata": {
    "collapsed": true
   },
   "outputs": [],
   "source": [
    "import random\n",
    "\n",
    "def mutate_chromosome(chromosome):\n",
    "    first = (random.randrange(0, 10, 1), random.randrange(0, 10, 1))\n",
    "    second = (random.randrange(0, 10, 1), random.randrange(0, 10, 1))\n",
    "\n",
    "    chromosome[first[0], first[1]], chromosome[second[0], second[1]] = chromosome[second[0], second[1]], chromosome[first[0], first[1]]\n",
    "    return chromosome"
   ]
  },
  {
   "cell_type": "markdown",
   "metadata": {},
   "source": [
    "#### 可视化\n",
    "\n",
    "接下来我们来将每条染色体的适应性都可视化出来，为了更生物一点，我们用类似于基因图谱的形式绘制每条染色体的基因情况"
   ]
  },
  {
   "cell_type": "code",
   "execution_count": 36,
   "metadata": {
    "collapsed": true
   },
   "outputs": [],
   "source": [
    "import matplotlib.pyplot as plt\n",
    "%matplotlib inline\n",
    "\n",
    "def draw_population(population, generation):\n",
    "    get_ids = np.vectorize(get_id)\n",
    "    figure, axes = plt.subplots(1, 10, figsize=(20, 3))\n",
    "\n",
    "    for index, chromosome in enumerate(population):\n",
    "        ids = chromosome\n",
    "        axes[index].imshow(ids, interpolation=\"nearest\", cmap=plt.cm.plasma)\n",
    "        subplot_title = \"Chromosome \" + str(index)\n",
    "        axes[index].set_title(subplot_title)\n",
    "\n",
    "    plot_title = \"Generation \" + str(generation)\n",
    "    figure.suptitle(plot_title)\n",
    "    plt.show()"
   ]
  },
  {
   "cell_type": "markdown",
   "metadata": {},
   "source": [
    "但是这种遗传规则可能会导致”近亲遗传“，进而不利于物种的进化，还好我们可以设计一套基因变异的方案，也就是随机调换一些基因（就是用户座位）的位置，以保证生物多样性。"
   ]
  },
  {
   "cell_type": "code",
   "execution_count": 37,
   "metadata": {},
   "outputs": [
    {
     "ename": "NameError",
     "evalue": "name 'get_id' is not defined",
     "output_type": "error",
     "traceback": [
      "\u001b[1;31m---------------------------------------------------------------------------\u001b[0m",
      "\u001b[1;31mNameError\u001b[0m                                 Traceback (most recent call last)",
      "\u001b[1;32m<ipython-input-37-b413ff8dde66>\u001b[0m in \u001b[0;36m<module>\u001b[1;34m()\u001b[0m\n\u001b[1;32m----> 1\u001b[1;33m \u001b[0mdraw_population\u001b[0m\u001b[1;33m(\u001b[0m\u001b[0minitial_population\u001b[0m\u001b[1;33m,\u001b[0m \u001b[1;36m0\u001b[0m\u001b[1;33m)\u001b[0m\u001b[1;33m\u001b[0m\u001b[0m\n\u001b[0m",
      "\u001b[1;32m<ipython-input-36-6af4dc3dfc98>\u001b[0m in \u001b[0;36mdraw_population\u001b[1;34m(population, generation)\u001b[0m\n\u001b[0;32m      3\u001b[0m \u001b[1;33m\u001b[0m\u001b[0m\n\u001b[0;32m      4\u001b[0m \u001b[1;32mdef\u001b[0m \u001b[0mdraw_population\u001b[0m\u001b[1;33m(\u001b[0m\u001b[0mpopulation\u001b[0m\u001b[1;33m,\u001b[0m \u001b[0mgeneration\u001b[0m\u001b[1;33m)\u001b[0m\u001b[1;33m:\u001b[0m\u001b[1;33m\u001b[0m\u001b[0m\n\u001b[1;32m----> 5\u001b[1;33m     \u001b[0mget_ids\u001b[0m \u001b[1;33m=\u001b[0m \u001b[0mnp\u001b[0m\u001b[1;33m.\u001b[0m\u001b[0mvectorize\u001b[0m\u001b[1;33m(\u001b[0m\u001b[0mget_id\u001b[0m\u001b[1;33m)\u001b[0m\u001b[1;33m\u001b[0m\u001b[0m\n\u001b[0m\u001b[0;32m      6\u001b[0m     \u001b[0mfigure\u001b[0m\u001b[1;33m,\u001b[0m \u001b[0maxes\u001b[0m \u001b[1;33m=\u001b[0m \u001b[0mplt\u001b[0m\u001b[1;33m.\u001b[0m\u001b[0msubplots\u001b[0m\u001b[1;33m(\u001b[0m\u001b[1;36m1\u001b[0m\u001b[1;33m,\u001b[0m \u001b[1;36m10\u001b[0m\u001b[1;33m,\u001b[0m \u001b[0mfigsize\u001b[0m\u001b[1;33m=\u001b[0m\u001b[1;33m(\u001b[0m\u001b[1;36m20\u001b[0m\u001b[1;33m,\u001b[0m \u001b[1;36m3\u001b[0m\u001b[1;33m)\u001b[0m\u001b[1;33m)\u001b[0m\u001b[1;33m\u001b[0m\u001b[0m\n\u001b[0;32m      7\u001b[0m \u001b[1;33m\u001b[0m\u001b[0m\n",
      "\u001b[1;31mNameError\u001b[0m: name 'get_id' is not defined"
     ]
    }
   ],
   "source": [
    "draw_population(initial_population, 0)"
   ]
  },
  {
   "cell_type": "markdown",
   "metadata": {},
   "source": [
    "#### 又到了交配的季节\n",
    "\n",
    "现在就可以交配了。我们可以设定如下终止条件，如果终止条件没有被触发，就可以一直交配下去：\n",
    "* 代数达到上限\n",
    "* 后代的适应性超过阈值\n",
    "* 后代适应性退化\n",
    "\n",
    "这里我们迭代最多50次，在50代交配中，只要有染色体达到或超过优质标准（距离小于5）就停止。\n",
    "\n",
    "现在来实现交配逻辑吧！\n"
   ]
  },
  {
   "cell_type": "code",
   "execution_count": null,
   "metadata": {
    "collapsed": true
   },
   "outputs": [],
   "source": [
    "import copy\n",
    "\n",
    "most_fit = []\n",
    "\n",
    "# 当前的适应度\n",
    "max_fitness = None\n",
    "\n",
    "# 适应度最高的染色体\n",
    "fittest_chromosome = None"
   ]
  },
  {
   "cell_type": "code",
   "execution_count": null,
   "metadata": {
    "collapsed": true
   },
   "outputs": [],
   "source": [
    "### 从generations取出某一代的所有染色体，并排序\n",
    "def get_chromosomes_in_generation(generations, generation_num):\n",
    "    # Get only the chromosomes in this generation\n",
    "    generation = list(filter(lambda k: k['generation'] == generation_num, \n",
    "                             generations))\n",
    "    return sorted(generation, key=lambda k: k['fitness'])\n",
    "\n",
    "\n",
    "### 更新 most_fit / max_fitness / fittest_chromosome \n",
    "def sort_chromosomes(generation, most_fit):\n",
    "    max_fitness = generation[0]['fitness']\n",
    "    most_fit.append(max_fitness)\n",
    "    fittest_chromosome = generation[0]['chromosome']\n",
    "    return most_fit, fittest_chromosome"
   ]
  },
  {
   "cell_type": "markdown",
   "metadata": {},
   "source": [
    "在这个交配游戏中，每一代我们都会让适应度最好的四个染色体交配，生下两个后代，然后杀掉适应度最差的两个染色体以取而代之。为了防止数据污染，对每一代我们都复制仍存活的染色体数据。"
   ]
  },
  {
   "cell_type": "code",
   "execution_count": null,
   "metadata": {
    "collapsed": true
   },
   "outputs": [],
   "source": [
    "# 请将以下Comment 添加到代码的合适位置\n",
    "# A. 将适应度最高的两条染色体交配\n",
    "# B. 将新一代染色体加入到generations中并返回\n",
    "# C. 将适应度最差的两个染色体杀掉\n",
    "# D. 找到仍存活的染色体，并更新代数\n",
    "# E. 将适应度第三和第四高的两条染色体交配\n",
    "\n",
    "\n",
    "def copy_chromosomes(generation, generations):\n",
    "    new_generation = copy.deepcopy(generation)\n",
    "    \n",
    "    new_generation[-1]['active'] = False\n",
    "    new_generation[-2]['active'] = False\n",
    "    \n",
    "    active = list(filter(lambda k: k['active'] == True, new_generation))\n",
    "    for chromosome in active:\n",
    "        chromosome['generation'] += 1\n",
    "    \n",
    "    \n",
    "    generations.extend(active)\n",
    "    return generations\n",
    "\n",
    "\n",
    "def mate_chromosomes(generation, generations, generation_num):\n",
    "    \n",
    "    child = recombine(generation[0]['chromosome'], generation[1]['chromosome'])\n",
    "    child = mutate_chromosome(child)\n",
    "    generations.append({\n",
    "      \"active\": True,\n",
    "      \"chromosome\": child,\n",
    "      \"generation\": generation_num + 1,\n",
    "      \"fitness\": calculate_chromosome_fitness(child)\n",
    "    })\n",
    "\n",
    "    other = recombine(generation[2]['chromosome'], generation[3]['chromosome'])\n",
    "    other = mutate_chromosome(chromosome)\n",
    "    generations.append({\n",
    "      \"active\": True,\n",
    "      \"chromosome\": other,\n",
    "      \"generation\": generation_num + 1,\n",
    "      \"fitness\": calculate_chromosome_fitness(other)\n",
    "    })\n",
    "    return generations"
   ]
  },
  {
   "cell_type": "markdown",
   "metadata": {},
   "source": [
    "最后，我们用一个`main`函数将这些步骤封装起来"
   ]
  },
  {
   "cell_type": "code",
   "execution_count": null,
   "metadata": {
    "collapsed": true
   },
   "outputs": [],
   "source": [
    "def run_ga(input_generations):\n",
    "    fittest = []\n",
    "    max_fitness = None\n",
    "    fittest_chromo = None\n",
    "    for generation_num in range(50):\n",
    "        if max_fitness and max_fitness < 5:\n",
    "            break\n",
    "\n",
    "        generation = get_chromosomes_in_generation(input_generations, generation_num)\n",
    "        fittest, fittest_chromo = sort_chromosomes(generation, most_fit)\n",
    "\n",
    "        input_generations = copy_chromosomes(generation, input_generations)\n",
    "        input_generations = mate_chromosomes(generation, input_generations, generation_num)\n",
    "\n",
    "        draw_population(map(lambda d: d['chromosome'], \n",
    "                        get_chromosomes_in_generation(input_generations, generation_num)), generation_num)\n",
    "\n",
    "    return fittest, fittest_chromo"
   ]
  },
  {
   "cell_type": "code",
   "execution_count": null,
   "metadata": {},
   "outputs": [],
   "source": [
    "most_fit, fittest_chromosome = run_ga(generations)"
   ]
  },
  {
   "cell_type": "markdown",
   "metadata": {},
   "source": [
    "到这里，遗传算法就告一段落了，我们最后看看这个model的表现吧"
   ]
  },
  {
   "cell_type": "code",
   "execution_count": null,
   "metadata": {},
   "outputs": [],
   "source": [
    "plt.plot(most_fit)\n",
    "plt.title(\"Most Fit Trend\")\n",
    "plt.xlabel(\"Generation\")\n",
    "plt.ylabel(\"Fitness\")\n",
    "plt.show()"
   ]
  },
  {
   "cell_type": "code",
   "execution_count": null,
   "metadata": {},
   "outputs": [],
   "source": [
    "fittest_chromosome"
   ]
  },
  {
   "cell_type": "code",
   "execution_count": null,
   "metadata": {
    "collapsed": true
   },
   "outputs": [],
   "source": []
  }
 ],
 "metadata": {
  "anaconda-cloud": {},
  "kernelspec": {
   "display_name": "Python 3",
   "language": "python",
   "name": "python3"
  },
  "language_info": {
   "codemirror_mode": {
    "name": "ipython",
    "version": 3
   },
   "file_extension": ".py",
   "mimetype": "text/x-python",
   "name": "python",
   "nbconvert_exporter": "python",
   "pygments_lexer": "ipython3",
   "version": "3.6.3"
  }
 },
 "nbformat": 4,
 "nbformat_minor": 2
}
